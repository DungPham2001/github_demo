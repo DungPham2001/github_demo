{
 "cells": [
  {
   "cell_type": "code",
   "execution_count": 94,
   "id": "b95c0dce",
   "metadata": {},
   "outputs": [
    {
     "data": {
      "text/html": [
       "<div>\n",
       "<style scoped>\n",
       "    .dataframe tbody tr th:only-of-type {\n",
       "        vertical-align: middle;\n",
       "    }\n",
       "\n",
       "    .dataframe tbody tr th {\n",
       "        vertical-align: top;\n",
       "    }\n",
       "\n",
       "    .dataframe thead th {\n",
       "        text-align: right;\n",
       "    }\n",
       "</style>\n",
       "<table border=\"1\" class=\"dataframe\">\n",
       "  <thead>\n",
       "    <tr style=\"text-align: right;\">\n",
       "      <th></th>\n",
       "      <th>sepal.length</th>\n",
       "      <th>sepal.width</th>\n",
       "      <th>petal.length</th>\n",
       "      <th>petal.width</th>\n",
       "      <th>variety</th>\n",
       "    </tr>\n",
       "  </thead>\n",
       "  <tbody>\n",
       "    <tr>\n",
       "      <th>0</th>\n",
       "      <td>5.1</td>\n",
       "      <td>3.5</td>\n",
       "      <td>1.4</td>\n",
       "      <td>0.2</td>\n",
       "      <td>Setosa</td>\n",
       "    </tr>\n",
       "    <tr>\n",
       "      <th>1</th>\n",
       "      <td>4.9</td>\n",
       "      <td>3.0</td>\n",
       "      <td>NaN</td>\n",
       "      <td>0.2</td>\n",
       "      <td>Setosa</td>\n",
       "    </tr>\n",
       "    <tr>\n",
       "      <th>2</th>\n",
       "      <td>4.7</td>\n",
       "      <td>3.2</td>\n",
       "      <td>1.3</td>\n",
       "      <td>0.2</td>\n",
       "      <td>Setosa</td>\n",
       "    </tr>\n",
       "    <tr>\n",
       "      <th>3</th>\n",
       "      <td>4.6</td>\n",
       "      <td>3.1</td>\n",
       "      <td>1.5</td>\n",
       "      <td>NaN</td>\n",
       "      <td>Setosa</td>\n",
       "    </tr>\n",
       "    <tr>\n",
       "      <th>4</th>\n",
       "      <td>5.0</td>\n",
       "      <td>3.6</td>\n",
       "      <td>1.4</td>\n",
       "      <td>0.2</td>\n",
       "      <td>Setosa</td>\n",
       "    </tr>\n",
       "    <tr>\n",
       "      <th>...</th>\n",
       "      <td>...</td>\n",
       "      <td>...</td>\n",
       "      <td>...</td>\n",
       "      <td>...</td>\n",
       "      <td>...</td>\n",
       "    </tr>\n",
       "    <tr>\n",
       "      <th>145</th>\n",
       "      <td>6.7</td>\n",
       "      <td>3.0</td>\n",
       "      <td>5.2</td>\n",
       "      <td>2.3</td>\n",
       "      <td>Virginica</td>\n",
       "    </tr>\n",
       "    <tr>\n",
       "      <th>146</th>\n",
       "      <td>6.3</td>\n",
       "      <td>NaN</td>\n",
       "      <td>5.0</td>\n",
       "      <td>1.9</td>\n",
       "      <td>Virginica</td>\n",
       "    </tr>\n",
       "    <tr>\n",
       "      <th>147</th>\n",
       "      <td>NaN</td>\n",
       "      <td>NaN</td>\n",
       "      <td>5.2</td>\n",
       "      <td>2.0</td>\n",
       "      <td>Virginica</td>\n",
       "    </tr>\n",
       "    <tr>\n",
       "      <th>148</th>\n",
       "      <td>NaN</td>\n",
       "      <td>3.4</td>\n",
       "      <td>NaN</td>\n",
       "      <td>2.3</td>\n",
       "      <td>Virginica</td>\n",
       "    </tr>\n",
       "    <tr>\n",
       "      <th>149</th>\n",
       "      <td>5.9</td>\n",
       "      <td>3.0</td>\n",
       "      <td>5.1</td>\n",
       "      <td>1.8</td>\n",
       "      <td>Virginica</td>\n",
       "    </tr>\n",
       "  </tbody>\n",
       "</table>\n",
       "<p>150 rows × 5 columns</p>\n",
       "</div>"
      ],
      "text/plain": [
       "     sepal.length  sepal.width  petal.length  petal.width    variety\n",
       "0             5.1          3.5           1.4          0.2     Setosa\n",
       "1             4.9          3.0           NaN          0.2     Setosa\n",
       "2             4.7          3.2           1.3          0.2     Setosa\n",
       "3             4.6          3.1           1.5          NaN     Setosa\n",
       "4             5.0          3.6           1.4          0.2     Setosa\n",
       "..            ...          ...           ...          ...        ...\n",
       "145           6.7          3.0           5.2          2.3  Virginica\n",
       "146           6.3          NaN           5.0          1.9  Virginica\n",
       "147           NaN          NaN           5.2          2.0  Virginica\n",
       "148           NaN          3.4           NaN          2.3  Virginica\n",
       "149           5.9          3.0           5.1          1.8  Virginica\n",
       "\n",
       "[150 rows x 5 columns]"
      ]
     },
     "execution_count": 94,
     "metadata": {},
     "output_type": "execute_result"
    }
   ],
   "source": [
    "#1. Hiển thị toàn bộ dữ liệu\n",
    "import pandas as pd\n",
    "df = pd.read_csv('./TH2to2.csv')\n",
    "df"
   ]
  },
  {
   "cell_type": "code",
   "execution_count": 95,
   "id": "8e6e61fa",
   "metadata": {},
   "outputs": [
    {
     "data": {
      "text/plain": [
       "sepal.length    15\n",
       "sepal.width     15\n",
       "petal.length    15\n",
       "petal.width     15\n",
       "variety         15\n",
       "dtype: int64"
      ]
     },
     "execution_count": 95,
     "metadata": {},
     "output_type": "execute_result"
    }
   ],
   "source": [
    "df.isnull().sum()"
   ]
  },
  {
   "cell_type": "code",
   "execution_count": 96,
   "id": "07a84237",
   "metadata": {},
   "outputs": [
    {
     "name": "stdout",
     "output_type": "stream",
     "text": [
      "     sepal.length  sepal.width  petal.length  petal.width     variety\n",
      "0             5.1          3.5           1.4          0.2      Setosa\n",
      "5             5.4          3.9           1.7          0.4      Setosa\n",
      "10            5.4          3.7           1.5          0.2      Setosa\n",
      "15            5.7          4.4           1.5          NaN      Setosa\n",
      "16            5.4          3.9           1.3          0.4      Setosa\n",
      "17            5.1          3.5           1.4          0.3         NaN\n",
      "18            5.7          3.8           1.7          NaN      Setosa\n",
      "19            5.1          3.8           1.5          0.3      Setosa\n",
      "20            5.4          3.4           NaN          0.2      Setosa\n",
      "21            5.1          3.7           NaN          0.4      Setosa\n",
      "23            5.1          3.3           1.7          0.5      Setosa\n",
      "27            5.2          3.5           1.5          0.2         NaN\n",
      "28            5.2          3.4           1.4          0.2      Setosa\n",
      "31            5.4          3.4           1.5          0.4      Setosa\n",
      "32            5.2          4.1           1.5          0.1      Setosa\n",
      "33            5.5          4.2           1.4          0.2         NaN\n",
      "36            5.5          3.5           1.3          0.2      Setosa\n",
      "39            5.1          3.4           1.5          0.2      Setosa\n",
      "44            5.1          3.8           1.9          NaN      Setosa\n",
      "46            5.1          3.8           1.6          0.2      Setosa\n",
      "48            5.3          3.7           1.5          0.2      Setosa\n",
      "50            7.0          3.2           4.7          1.4         NaN\n",
      "51            6.4          3.2           4.5          NaN  Versicolor\n",
      "56            6.3          3.3           4.7          1.6  Versicolor\n",
      "65            6.7          3.1           4.4          1.4  Versicolor\n",
      "70            5.9          3.2           4.8          1.8         NaN\n",
      "86            6.7          3.1           4.7          1.5  Versicolor\n",
      "100           6.3          3.3           6.0          NaN   Virginica\n",
      "110           6.5          3.2           5.1          2.0   Virginica\n",
      "115           6.4          3.2           5.3          2.3         NaN\n",
      "117           7.7          3.8           6.7          2.2   Virginica\n",
      "120           6.9          3.2           5.7          2.3   Virginica\n",
      "124           6.7          3.3           5.7          2.1   Virginica\n",
      "125           7.2          3.2           6.0          1.8   Virginica\n",
      "131           7.9          3.8           6.4          2.0   Virginica\n",
      "136           6.3          3.4           5.6          2.4   Virginica\n",
      "137           6.4          3.1           5.5          1.8   Virginica\n",
      "139           6.9          3.1           5.4          NaN   Virginica\n",
      "141           6.9          3.1           5.1          2.3   Virginica\n",
      "143           6.8          3.2           5.9          2.3   Virginica\n"
     ]
    }
   ],
   "source": [
    "# 3. Hiển thị các bản ghi có sepal.length > 5 và sepal.width > 3\n",
    "sepal_width = df[(df['sepal.length'] > 5)  & (df['sepal.width'] > 3)]\n",
    "print(sepal_width)"
   ]
  },
  {
   "cell_type": "code",
   "execution_count": 97,
   "id": "345321ac",
   "metadata": {},
   "outputs": [],
   "source": [
    "# 2. Điền các giá trị thiếu của dữ liệu theo phương pháp trung bình với các trường có giá trị số và theo phương pháp tần số cao nhất với giá trị rời rạc\n",
    "df['sepal.length'].fillna(df['sepal.length'].mean(),inplace=True)\n",
    "df['sepal.width'].fillna(df['sepal.width'].mean(),inplace=True)\n",
    "df['petal.length'].fillna(df['petal.length'].mean(),inplace=True)\n",
    "df['petal.width'].fillna(df['petal.width'].mean(),inplace=True)"
   ]
  },
  {
   "cell_type": "code",
   "execution_count": 98,
   "id": "379dad8d",
   "metadata": {},
   "outputs": [
    {
     "name": "stdout",
     "output_type": "stream",
     "text": [
      "     sepal.length  sepal.width  petal.length  petal.width    variety\n",
      "0        5.100000     3.500000      1.400000      0.20000     Setosa\n",
      "1        4.900000     3.000000      3.719259      0.20000     Setosa\n",
      "2        4.700000     3.200000      1.300000      0.20000     Setosa\n",
      "3        4.600000     3.100000      1.500000      1.18963     Setosa\n",
      "4        5.000000     3.600000      1.400000      0.20000     Setosa\n",
      "..            ...          ...           ...          ...        ...\n",
      "145      6.700000     3.000000      5.200000      2.30000  Virginica\n",
      "146      6.300000     3.054815      5.000000      1.90000  Virginica\n",
      "147      5.852593     3.054815      5.200000      2.00000  Virginica\n",
      "148      5.852593     3.400000      3.719259      2.30000  Virginica\n",
      "149      5.900000     3.000000      5.100000      1.80000  Virginica\n",
      "\n",
      "[150 rows x 5 columns]\n"
     ]
    }
   ],
   "source": [
    "print(df)"
   ]
  },
  {
   "cell_type": "code",
   "execution_count": 99,
   "id": "19def783",
   "metadata": {},
   "outputs": [],
   "source": [
    "df['variety'].fillna(df['variety'].mode()[0],inplace=True)"
   ]
  },
  {
   "cell_type": "code",
   "execution_count": 100,
   "id": "3525f0cf",
   "metadata": {},
   "outputs": [
    {
     "name": "stdout",
     "output_type": "stream",
     "text": [
      "     sepal.length  sepal.width  petal.length  petal.width    variety\n",
      "0        5.100000     3.500000      1.400000      0.20000     Setosa\n",
      "1        4.900000     3.000000      3.719259      0.20000     Setosa\n",
      "2        4.700000     3.200000      1.300000      0.20000     Setosa\n",
      "3        4.600000     3.100000      1.500000      1.18963     Setosa\n",
      "4        5.000000     3.600000      1.400000      0.20000     Setosa\n",
      "..            ...          ...           ...          ...        ...\n",
      "145      6.700000     3.000000      5.200000      2.30000  Virginica\n",
      "146      6.300000     3.054815      5.000000      1.90000  Virginica\n",
      "147      5.852593     3.054815      5.200000      2.00000  Virginica\n",
      "148      5.852593     3.400000      3.719259      2.30000  Virginica\n",
      "149      5.900000     3.000000      5.100000      1.80000  Virginica\n",
      "\n",
      "[150 rows x 5 columns]\n"
     ]
    }
   ],
   "source": [
    "print(df)"
   ]
  },
  {
   "cell_type": "code",
   "execution_count": 101,
   "id": "4c7d5848",
   "metadata": {},
   "outputs": [
    {
     "data": {
      "text/plain": [
       "sepal.length    0\n",
       "sepal.width     0\n",
       "petal.length    0\n",
       "petal.width     0\n",
       "variety         0\n",
       "dtype: int64"
      ]
     },
     "execution_count": 101,
     "metadata": {},
     "output_type": "execute_result"
    }
   ],
   "source": [
    "df.isnull().sum()"
   ]
  },
  {
   "cell_type": "code",
   "execution_count": 106,
   "id": "e54e21e6",
   "metadata": {},
   "outputs": [
    {
     "name": "stdout",
     "output_type": "stream",
     "text": [
      "     sepal.length  sepal.width  petal.length  petal.width    variety\n",
      "0        0.222222     0.625000      0.067797     0.041667     Setosa\n",
      "1        0.166667     0.416667      0.460891     0.041667     Setosa\n",
      "2        0.111111     0.500000      0.050847     0.041667     Setosa\n",
      "3        0.083333     0.458333      0.084746     0.454012     Setosa\n",
      "4        0.194444     0.666667      0.067797     0.041667     Setosa\n",
      "..            ...          ...           ...          ...        ...\n",
      "145      0.666667     0.416667      0.711864     0.916667  Virginica\n",
      "146      0.555556     0.439506      0.677966     0.750000  Virginica\n",
      "147      0.431276     0.439506      0.711864     0.791667  Virginica\n",
      "148      0.431276     0.583333      0.460891     0.916667  Virginica\n",
      "149      0.444444     0.416667      0.694915     0.708333  Virginica\n",
      "\n",
      "[150 rows x 5 columns]\n"
     ]
    }
   ],
   "source": [
    "#4. Chuẩn hóa dữ liệu theo MinMax\n",
    "from sklearn.preprocessing import MinMaxScaler\n",
    "mms=MinMaxScaler()\n",
    "#df['sepal.length']=mms.fit(df[['sepal.length']])\n",
    "df['sepal.length']=mms.fit_transform(df[['sepal.length']])\n",
    "df['sepal.width']=mms.fit_transform(df[['sepal.width']])\n",
    "df['petal.length']=mms.fit_transform(df[['petal.length']])\n",
    "df['petal.width']=mms.fit_transform(df[['petal.width']])\n",
    "print(df)"
   ]
  },
  {
   "cell_type": "code",
   "execution_count": 108,
   "id": "668f892f",
   "metadata": {},
   "outputs": [
    {
     "name": "stdout",
     "output_type": "stream",
     "text": [
      "     sepal.length  sepal.width  petal.length  petal.width  variety\n",
      "0        0.222222     0.625000      0.067797     0.041667        0\n",
      "1        0.166667     0.416667      0.460891     0.041667        0\n",
      "2        0.111111     0.500000      0.050847     0.041667        0\n",
      "3        0.083333     0.458333      0.084746     0.454012        0\n",
      "4        0.194444     0.666667      0.067797     0.041667        0\n",
      "..            ...          ...           ...          ...      ...\n",
      "145      0.666667     0.416667      0.711864     0.916667        2\n",
      "146      0.555556     0.439506      0.677966     0.750000        2\n",
      "147      0.431276     0.439506      0.711864     0.791667        2\n",
      "148      0.431276     0.583333      0.460891     0.916667        2\n",
      "149      0.444444     0.416667      0.694915     0.708333        2\n",
      "\n",
      "[150 rows x 5 columns]\n"
     ]
    }
   ],
   "source": [
    "#5.Liên tục hoá trường variety\n",
    "from sklearn.preprocessing import LabelEncoder\n",
    "le=LabelEncoder()\n",
    "df['variety']=le.fit_transform(df['variety'])\n",
    "print(df)"
   ]
  },
  {
   "cell_type": "code",
   "execution_count": 110,
   "id": "bd3e11bd",
   "metadata": {},
   "outputs": [],
   "source": [
    "#6\n",
    "from sklearn.linear_model import LinearRegression\n",
    "from sklearn.model_selection import train_test_split\n",
    "model=LinearRegression()\n",
    "col_numberic=['sepal.length','sepal.width','petal.length','petal.width']\n",
    "X=df[col_numberic]\n",
    "y=df.variety\n",
    "X_train,y_train,X_test,y_test=train_test_split(X,y,test_size=0.1,random_state=0)"
   ]
  },
  {
   "cell_type": "code",
   "execution_count": 112,
   "id": "a37d7770",
   "metadata": {},
   "outputs": [
    {
     "data": {
      "text/plain": [
       "(0.11040640218256004,\n",
       " array([ 0.16914673, -0.26723763,  1.21005519,  1.06397976]))"
      ]
     },
     "execution_count": 112,
     "metadata": {},
     "output_type": "execute_result"
    }
   ],
   "source": [
    "model.intercept_,model.coef_"
   ]
  },
  {
   "cell_type": "code",
   "execution_count": 113,
   "id": "8cfd4390",
   "metadata": {},
   "outputs": [
    {
     "data": {
      "text/html": [
       "<div>\n",
       "<style scoped>\n",
       "    .dataframe tbody tr th:only-of-type {\n",
       "        vertical-align: middle;\n",
       "    }\n",
       "\n",
       "    .dataframe tbody tr th {\n",
       "        vertical-align: top;\n",
       "    }\n",
       "\n",
       "    .dataframe thead th {\n",
       "        text-align: right;\n",
       "    }\n",
       "</style>\n",
       "<table border=\"1\" class=\"dataframe\">\n",
       "  <thead>\n",
       "    <tr style=\"text-align: right;\">\n",
       "      <th></th>\n",
       "      <th>sepal.length</th>\n",
       "      <th>sepal.width</th>\n",
       "      <th>petal.length</th>\n",
       "      <th>petal.width</th>\n",
       "      <th>variety</th>\n",
       "    </tr>\n",
       "  </thead>\n",
       "  <tbody>\n",
       "    <tr>\n",
       "      <th>95</th>\n",
       "      <td>0.388889</td>\n",
       "      <td>0.439506</td>\n",
       "      <td>0.542373</td>\n",
       "      <td>0.458333</td>\n",
       "      <td>1</td>\n",
       "    </tr>\n",
       "    <tr>\n",
       "      <th>37</th>\n",
       "      <td>0.166667</td>\n",
       "      <td>0.666667</td>\n",
       "      <td>0.067797</td>\n",
       "      <td>0.000000</td>\n",
       "      <td>0</td>\n",
       "    </tr>\n",
       "    <tr>\n",
       "      <th>64</th>\n",
       "      <td>0.361111</td>\n",
       "      <td>0.375000</td>\n",
       "      <td>0.440678</td>\n",
       "      <td>0.500000</td>\n",
       "      <td>1</td>\n",
       "    </tr>\n",
       "    <tr>\n",
       "      <th>21</th>\n",
       "      <td>0.222222</td>\n",
       "      <td>0.708333</td>\n",
       "      <td>0.460891</td>\n",
       "      <td>0.125000</td>\n",
       "      <td>0</td>\n",
       "    </tr>\n",
       "    <tr>\n",
       "      <th>52</th>\n",
       "      <td>0.431276</td>\n",
       "      <td>0.458333</td>\n",
       "      <td>0.661017</td>\n",
       "      <td>0.583333</td>\n",
       "      <td>1</td>\n",
       "    </tr>\n",
       "    <tr>\n",
       "      <th>...</th>\n",
       "      <td>...</td>\n",
       "      <td>...</td>\n",
       "      <td>...</td>\n",
       "      <td>...</td>\n",
       "      <td>...</td>\n",
       "    </tr>\n",
       "    <tr>\n",
       "      <th>112</th>\n",
       "      <td>0.694444</td>\n",
       "      <td>0.416667</td>\n",
       "      <td>0.762712</td>\n",
       "      <td>0.833333</td>\n",
       "      <td>2</td>\n",
       "    </tr>\n",
       "    <tr>\n",
       "      <th>135</th>\n",
       "      <td>0.944444</td>\n",
       "      <td>0.416667</td>\n",
       "      <td>0.864407</td>\n",
       "      <td>0.916667</td>\n",
       "      <td>2</td>\n",
       "    </tr>\n",
       "    <tr>\n",
       "      <th>51</th>\n",
       "      <td>0.583333</td>\n",
       "      <td>0.500000</td>\n",
       "      <td>0.593220</td>\n",
       "      <td>0.454012</td>\n",
       "      <td>1</td>\n",
       "    </tr>\n",
       "    <tr>\n",
       "      <th>87</th>\n",
       "      <td>0.555556</td>\n",
       "      <td>0.125000</td>\n",
       "      <td>0.576271</td>\n",
       "      <td>0.500000</td>\n",
       "      <td>1</td>\n",
       "    </tr>\n",
       "    <tr>\n",
       "      <th>14</th>\n",
       "      <td>0.416667</td>\n",
       "      <td>0.439506</td>\n",
       "      <td>0.033898</td>\n",
       "      <td>0.041667</td>\n",
       "      <td>0</td>\n",
       "    </tr>\n",
       "  </tbody>\n",
       "</table>\n",
       "<p>75 rows × 5 columns</p>\n",
       "</div>"
      ],
      "text/plain": [
       "     sepal.length  sepal.width  petal.length  petal.width  variety\n",
       "95       0.388889     0.439506      0.542373     0.458333        1\n",
       "37       0.166667     0.666667      0.067797     0.000000        0\n",
       "64       0.361111     0.375000      0.440678     0.500000        1\n",
       "21       0.222222     0.708333      0.460891     0.125000        0\n",
       "52       0.431276     0.458333      0.661017     0.583333        1\n",
       "..            ...          ...           ...          ...      ...\n",
       "112      0.694444     0.416667      0.762712     0.833333        2\n",
       "135      0.944444     0.416667      0.864407     0.916667        2\n",
       "51       0.583333     0.500000      0.593220     0.454012        1\n",
       "87       0.555556     0.125000      0.576271     0.500000        1\n",
       "14       0.416667     0.439506      0.033898     0.041667        0\n",
       "\n",
       "[75 rows x 5 columns]"
      ]
     },
     "execution_count": 113,
     "metadata": {},
     "output_type": "execute_result"
    }
   ],
   "source": [
    "#7\n",
    "df_7=df.sample(frac=0.5)\n",
    "df_7"
   ]
  },
  {
   "cell_type": "code",
   "execution_count": 120,
   "id": "afb84a1b",
   "metadata": {},
   "outputs": [],
   "source": [
    "#8\n",
    "df['sepal.length']=pd.cut(df['sepal.length'],bins=[0.0,0.2,0.4,0.6,0.8,1.0],labels=['<20%','<40%','<60%','<80%','>80%'])"
   ]
  },
  {
   "cell_type": "code",
   "execution_count": 121,
   "id": "e441ac25",
   "metadata": {},
   "outputs": [
    {
     "name": "stdout",
     "output_type": "stream",
     "text": [
      "    sepal.length  sepal.width  petal.length  petal.width  variety sepal_length\n",
      "0           <40%     0.625000      0.067797     0.041667        0         <40%\n",
      "1           <20%     0.416667      0.460891     0.041667        0         <20%\n",
      "2           <20%     0.500000      0.050847     0.041667        0         <20%\n",
      "3           <20%     0.458333      0.084746     0.454012        0         <20%\n",
      "4           <20%     0.666667      0.067797     0.041667        0         <20%\n",
      "..           ...          ...           ...          ...      ...          ...\n",
      "145         <80%     0.416667      0.711864     0.916667        2         <80%\n",
      "146         <60%     0.439506      0.677966     0.750000        2         <60%\n",
      "147         <60%     0.439506      0.711864     0.791667        2         <60%\n",
      "148         <60%     0.583333      0.460891     0.916667        2         <60%\n",
      "149         <60%     0.416667      0.694915     0.708333        2         <60%\n",
      "\n",
      "[150 rows x 6 columns]\n"
     ]
    }
   ],
   "source": [
    "print(df)"
   ]
  },
  {
   "cell_type": "code",
   "execution_count": null,
   "id": "619609f2",
   "metadata": {},
   "outputs": [],
   "source": []
  }
 ],
 "metadata": {
  "kernelspec": {
   "display_name": "Python 3 (ipykernel)",
   "language": "python",
   "name": "python3"
  },
  "language_info": {
   "codemirror_mode": {
    "name": "ipython",
    "version": 3
   },
   "file_extension": ".py",
   "mimetype": "text/x-python",
   "name": "python",
   "nbconvert_exporter": "python",
   "pygments_lexer": "ipython3",
   "version": "3.9.12"
  }
 },
 "nbformat": 4,
 "nbformat_minor": 5
}
